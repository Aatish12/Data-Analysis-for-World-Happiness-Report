{
 "cells": [
  {
   "cell_type": "code",
   "execution_count": 1,
   "metadata": {},
   "outputs": [
    {
     "name": "stdout",
     "output_type": "stream",
     "text": [
      "Requirement already satisfied: pandas in c:\\users\\aatish manjrekar\\appdata\\local\\programs\\python\\python313\\lib\\site-packages (2.2.3)\n",
      "Requirement already satisfied: numpy>=1.26.0 in c:\\users\\aatish manjrekar\\appdata\\local\\programs\\python\\python313\\lib\\site-packages (from pandas) (2.2.2)\n",
      "Requirement already satisfied: python-dateutil>=2.8.2 in c:\\users\\aatish manjrekar\\appdata\\roaming\\python\\python313\\site-packages (from pandas) (2.9.0.post0)\n",
      "Requirement already satisfied: pytz>=2020.1 in c:\\users\\aatish manjrekar\\appdata\\local\\programs\\python\\python313\\lib\\site-packages (from pandas) (2024.2)\n",
      "Requirement already satisfied: tzdata>=2022.7 in c:\\users\\aatish manjrekar\\appdata\\local\\programs\\python\\python313\\lib\\site-packages (from pandas) (2025.1)\n",
      "Requirement already satisfied: six>=1.5 in c:\\users\\aatish manjrekar\\appdata\\roaming\\python\\python313\\site-packages (from python-dateutil>=2.8.2->pandas) (1.17.0)\n",
      "Note: you may need to restart the kernel to use updated packages.\n"
     ]
    }
   ],
   "source": [
    "%pip install pandas\n"
   ]
  },
  {
   "cell_type": "code",
   "execution_count": 5,
   "metadata": {},
   "outputs": [],
   "source": [
    "import pandas as pd\n",
    "happ_df=pd.read_csv(\"C:/Users/Aatish Manjrekar/Downloads/2016.csv\")"
   ]
  },
  {
   "cell_type": "code",
   "execution_count": 6,
   "metadata": {},
   "outputs": [
    {
     "data": {
      "text/html": [
       "<div>\n",
       "<style scoped>\n",
       "    .dataframe tbody tr th:only-of-type {\n",
       "        vertical-align: middle;\n",
       "    }\n",
       "\n",
       "    .dataframe tbody tr th {\n",
       "        vertical-align: top;\n",
       "    }\n",
       "\n",
       "    .dataframe thead th {\n",
       "        text-align: right;\n",
       "    }\n",
       "</style>\n",
       "<table border=\"1\" class=\"dataframe\">\n",
       "  <thead>\n",
       "    <tr style=\"text-align: right;\">\n",
       "      <th></th>\n",
       "      <th>Country</th>\n",
       "      <th>Region</th>\n",
       "      <th>Happiness Rank</th>\n",
       "      <th>Happiness Score</th>\n",
       "      <th>Lower Confidence Interval</th>\n",
       "      <th>Upper Confidence Interval</th>\n",
       "      <th>Economy (GDP per Capita)</th>\n",
       "      <th>Family</th>\n",
       "      <th>Health (Life Expectancy)</th>\n",
       "      <th>Freedom</th>\n",
       "      <th>Trust (Government Corruption)</th>\n",
       "      <th>Generosity</th>\n",
       "      <th>Dystopia Residual</th>\n",
       "    </tr>\n",
       "  </thead>\n",
       "  <tbody>\n",
       "    <tr>\n",
       "      <th>0</th>\n",
       "      <td>Denmark</td>\n",
       "      <td>Western Europe</td>\n",
       "      <td>1</td>\n",
       "      <td>7.526</td>\n",
       "      <td>7.460</td>\n",
       "      <td>7.592</td>\n",
       "      <td>1.44178</td>\n",
       "      <td>1.16374</td>\n",
       "      <td>0.79504</td>\n",
       "      <td>0.57941</td>\n",
       "      <td>0.44453</td>\n",
       "      <td>0.36171</td>\n",
       "      <td>2.73939</td>\n",
       "    </tr>\n",
       "    <tr>\n",
       "      <th>1</th>\n",
       "      <td>Switzerland</td>\n",
       "      <td>Western Europe</td>\n",
       "      <td>2</td>\n",
       "      <td>7.509</td>\n",
       "      <td>7.428</td>\n",
       "      <td>7.59</td>\n",
       "      <td>1.52733</td>\n",
       "      <td>1.14524</td>\n",
       "      <td>0.86303</td>\n",
       "      <td>0.58557</td>\n",
       "      <td>0.41203</td>\n",
       "      <td>0.28083</td>\n",
       "      <td>2.69463</td>\n",
       "    </tr>\n",
       "    <tr>\n",
       "      <th>2</th>\n",
       "      <td>Iceland</td>\n",
       "      <td>Western Europe</td>\n",
       "      <td>3</td>\n",
       "      <td>7.501</td>\n",
       "      <td>7.333</td>\n",
       "      <td>7.669</td>\n",
       "      <td>1.42666</td>\n",
       "      <td>1.18326</td>\n",
       "      <td>0.86733</td>\n",
       "      <td>0.56624</td>\n",
       "      <td>0.14975</td>\n",
       "      <td>0.47678</td>\n",
       "      <td>2.83137</td>\n",
       "    </tr>\n",
       "    <tr>\n",
       "      <th>3</th>\n",
       "      <td>Norway</td>\n",
       "      <td>Western Europe</td>\n",
       "      <td>4</td>\n",
       "      <td>7.498</td>\n",
       "      <td>7.421</td>\n",
       "      <td>7.575</td>\n",
       "      <td>1.57744</td>\n",
       "      <td>1.12690</td>\n",
       "      <td>0.79579</td>\n",
       "      <td>0.59609</td>\n",
       "      <td>0.35776</td>\n",
       "      <td>0.37895</td>\n",
       "      <td>2.66465</td>\n",
       "    </tr>\n",
       "    <tr>\n",
       "      <th>4</th>\n",
       "      <td>Finland</td>\n",
       "      <td>Western Europe</td>\n",
       "      <td>5</td>\n",
       "      <td>7.413</td>\n",
       "      <td>7.351</td>\n",
       "      <td>7.475</td>\n",
       "      <td>1.40598</td>\n",
       "      <td>1.13464</td>\n",
       "      <td>0.81091</td>\n",
       "      <td>0.57104</td>\n",
       "      <td>0.41004</td>\n",
       "      <td>0.25492</td>\n",
       "      <td>2.82596</td>\n",
       "    </tr>\n",
       "  </tbody>\n",
       "</table>\n",
       "</div>"
      ],
      "text/plain": [
       "       Country          Region  Happiness Rank  Happiness Score  \\\n",
       "0      Denmark  Western Europe               1            7.526   \n",
       "1  Switzerland  Western Europe               2            7.509   \n",
       "2      Iceland  Western Europe               3            7.501   \n",
       "3       Norway  Western Europe               4            7.498   \n",
       "4      Finland  Western Europe               5            7.413   \n",
       "\n",
       "   Lower Confidence Interval Upper Confidence Interval  \\\n",
       "0                      7.460                     7.592   \n",
       "1                      7.428                      7.59   \n",
       "2                      7.333                     7.669   \n",
       "3                      7.421                     7.575   \n",
       "4                      7.351                     7.475   \n",
       "\n",
       "  Economy (GDP per Capita)   Family Health (Life Expectancy)  Freedom  \\\n",
       "0                  1.44178  1.16374                  0.79504  0.57941   \n",
       "1                  1.52733  1.14524                  0.86303  0.58557   \n",
       "2                  1.42666  1.18326                  0.86733  0.56624   \n",
       "3                  1.57744  1.12690                  0.79579  0.59609   \n",
       "4                  1.40598  1.13464                  0.81091  0.57104   \n",
       "\n",
       "   Trust (Government Corruption)  Generosity  Dystopia Residual  \n",
       "0                        0.44453     0.36171            2.73939  \n",
       "1                        0.41203     0.28083            2.69463  \n",
       "2                        0.14975     0.47678            2.83137  \n",
       "3                        0.35776     0.37895            2.66465  \n",
       "4                        0.41004     0.25492            2.82596  "
      ]
     },
     "execution_count": 6,
     "metadata": {},
     "output_type": "execute_result"
    }
   ],
   "source": [
    "happ_df.head()"
   ]
  },
  {
   "cell_type": "code",
   "execution_count": 4,
   "metadata": {},
   "outputs": [
    {
     "name": "stdout",
     "output_type": "stream",
     "text": [
      "Country                           object\n",
      "Region                            object\n",
      "Happiness Rank                     int64\n",
      "Happiness Score                  float64\n",
      "Lower Confidence Interval        float64\n",
      "Upper Confidence Interval         object\n",
      "Economy (GDP per Capita)          object\n",
      "Family                           float64\n",
      "Health (Life Expectancy)          object\n",
      "Freedom                           object\n",
      "Trust (Government Corruption)    float64\n",
      "Generosity                       float64\n",
      "Dystopia Residual                float64\n",
      "dtype: object\n"
     ]
    }
   ],
   "source": [
    "print(happ_df.dtypes)"
   ]
  },
  {
   "cell_type": "code",
   "execution_count": 7,
   "metadata": {},
   "outputs": [
    {
     "name": "stdout",
     "output_type": "stream",
     "text": [
      "       Country          Region  Happiness Rank  Happiness Score  \\\n",
      "0      Denmark  Western Europe               1            7.526   \n",
      "1  Switzerland  Western Europe               2            7.509   \n",
      "2      Iceland  Western Europe               3            7.501   \n",
      "3       Norway  Western Europe               4            7.498   \n",
      "4      Finland  Western Europe               5            7.413   \n",
      "\n",
      "   Lower Confidence Interval Upper Confidence Interval  \\\n",
      "0                      7.460                     7.592   \n",
      "1                      7.428                      7.59   \n",
      "2                      7.333                     7.669   \n",
      "3                      7.421                     7.575   \n",
      "4                      7.351                     7.475   \n",
      "\n",
      "  Economy (GDP per Capita)   Family Health (Life Expectancy)  Freedom  \\\n",
      "0                  1.44178  1.16374                  0.79504  0.57941   \n",
      "1                  1.52733  1.14524                  0.86303  0.58557   \n",
      "2                  1.42666  1.18326                  0.86733  0.56624   \n",
      "3                  1.57744  1.12690                  0.79579  0.59609   \n",
      "4                  1.40598  1.13464                  0.81091  0.57104   \n",
      "\n",
      "   Trust (Government Corruption)  Generosity  Dystopia Residual  \n",
      "0                        0.44453     0.36171            2.73939  \n",
      "1                        0.41203     0.28083            2.69463  \n",
      "2                        0.14975     0.47678            2.83137  \n",
      "3                        0.35776     0.37895            2.66465  \n",
      "4                        0.41004     0.25492            2.82596  \n"
     ]
    }
   ],
   "source": [
    "happ_df = happ_df.apply(lambda x: x.str.strip() if x.dtype == \"object\" else x)\n",
    "print(happ_df.head())"
   ]
  },
  {
   "cell_type": "code",
   "execution_count": 8,
   "metadata": {},
   "outputs": [
    {
     "name": "stdout",
     "output_type": "stream",
     "text": [
      "Requirement already satisfied: numpy in c:\\users\\aatish manjrekar\\appdata\\local\\programs\\python\\python313\\lib\\site-packages (2.2.2)Note: you may need to restart the kernel to use updated packages.\n",
      "\n"
     ]
    }
   ],
   "source": [
    "%pip install numpy"
   ]
  },
  {
   "cell_type": "code",
   "execution_count": 8,
   "metadata": {},
   "outputs": [
    {
     "name": "stdout",
     "output_type": "stream",
     "text": [
      "       Country          Region  Happiness Rank  Happiness Score  \\\n",
      "0      Denmark  Western Europe               1            7.526   \n",
      "1  Switzerland  Western Europe               2            7.509   \n",
      "2      Iceland  Western Europe               3            7.501   \n",
      "3       Norway  Western Europe               4            7.498   \n",
      "4      Finland  Western Europe               5            7.413   \n",
      "\n",
      "   Lower Confidence Interval Upper Confidence Interval  \\\n",
      "0                      7.460                     7.592   \n",
      "1                      7.428                      7.59   \n",
      "2                      7.333                     7.669   \n",
      "3                      7.421                     7.575   \n",
      "4                      7.351                     7.475   \n",
      "\n",
      "  Economy (GDP per Capita)   Family Health (Life Expectancy)  Freedom  \\\n",
      "0                  1.44178  1.16374                  0.79504  0.57941   \n",
      "1                  1.52733  1.14524                  0.86303  0.58557   \n",
      "2                  1.42666  1.18326                  0.86733  0.56624   \n",
      "3                  1.57744  1.12690                  0.79579  0.59609   \n",
      "4                  1.40598  1.13464                  0.81091  0.57104   \n",
      "\n",
      "   Trust (Government Corruption)  Generosity  Dystopia Residual  \n",
      "0                        0.44453     0.36171            2.73939  \n",
      "1                        0.41203     0.28083            2.69463  \n",
      "2                        0.14975     0.47678            2.83137  \n",
      "3                        0.35776     0.37895            2.66465  \n",
      "4                        0.41004     0.25492            2.82596  \n"
     ]
    }
   ],
   "source": [
    "import numpy as np\n",
    "happ_df = happ_df.apply(lambda x:x.replace('',np.nan))\n",
    "print(happ_df.head())"
   ]
  },
  {
   "cell_type": "code",
   "execution_count": 9,
   "metadata": {},
   "outputs": [
    {
     "name": "stdout",
     "output_type": "stream",
     "text": [
      "Missing values per column:\n",
      " Country                          0\n",
      "Region                           0\n",
      "Happiness Rank                   0\n",
      "Happiness Score                  0\n",
      "Lower Confidence Interval        4\n",
      "Upper Confidence Interval        2\n",
      "Economy (GDP per Capita)         1\n",
      "Family                           0\n",
      "Health (Life Expectancy)         2\n",
      "Freedom                          0\n",
      "Trust (Government Corruption)    0\n",
      "Generosity                       0\n",
      "Dystopia Residual                0\n",
      "dtype: int64\n",
      "\n",
      "Missing values after replacement:\n",
      " Country                          0\n",
      "Region                           0\n",
      "Happiness Rank                   0\n",
      "Happiness Score                  0\n",
      "Lower Confidence Interval        0\n",
      "Upper Confidence Interval        2\n",
      "Economy (GDP per Capita)         1\n",
      "Family                           0\n",
      "Health (Life Expectancy)         2\n",
      "Freedom                          0\n",
      "Trust (Government Corruption)    0\n",
      "Generosity                       0\n",
      "Dystopia Residual                0\n",
      "dtype: int64\n"
     ]
    }
   ],
   "source": [
    "import numpy as np\n",
    "import pandas as pd\n",
    "missing_values = happ_df.isnull().sum()\n",
    "print(\"Missing values per column:\\n\", missing_values)\n",
    "happ_df.fillna(happ_df.mean(numeric_only=True), inplace=True)\n",
    "print(\"\\nMissing values after replacement:\\n\", happ_df.isnull().sum())"
   ]
  },
  {
   "cell_type": "code",
   "execution_count": 10,
   "metadata": {},
   "outputs": [
    {
     "name": "stdout",
     "output_type": "stream",
     "text": [
      "Index(['Country', 'Region', 'Happiness Rank', 'Happiness Score',\n",
      "       'Lower Confidence Interval', 'Upper Confidence Interval',\n",
      "       'Economy (GDP per Capita)', 'Family', 'Health (Life Expectancy)',\n",
      "       'Freedom', 'Trust (Government Corruption)', 'Generosity',\n",
      "       'Dystopia Residual'],\n",
      "      dtype='object')\n"
     ]
    }
   ],
   "source": [
    "print(happ_df.columns)\n"
   ]
  },
  {
   "cell_type": "code",
   "execution_count": 11,
   "metadata": {},
   "outputs": [
    {
     "name": "stdout",
     "output_type": "stream",
     "text": [
      "Top 10 Countries with their GDP per Capita & Healthy Life Expectancy:\n",
      "       Country Economy (GDP per Capita) Health (Life Expectancy)\n",
      "0      Denmark                  1.44178                  0.79504\n",
      "1  Switzerland                  1.52733                  0.86303\n",
      "2      Iceland                  1.42666                  0.86733\n",
      "3       Norway                  1.57744                  0.79579\n",
      "4      Finland                  1.40598                  0.81091\n",
      "5       Canada                  1.44015                   0.8276\n",
      "6  Netherlands                  1.46468                  0.81231\n",
      "7  New Zealand                  1.36066                  0.83096\n",
      "8    Australia                  1.44443                   0.8512\n",
      "9       Sweden                  1.45181                  0.83121\n"
     ]
    }
   ],
   "source": [
    "happ_df_sorted = happ_df.sort_values(by='Happiness Score', ascending=False)\n",
    "top_10_countries = happ_df_sorted.head(10)[['Country', 'Economy (GDP per Capita)', 'Health (Life Expectancy)']]\n",
    "print(\"Top 10 Countries with their GDP per Capita & Healthy Life Expectancy:\")\n",
    "print(top_10_countries)"
   ]
  },
  {
   "cell_type": "code",
   "execution_count": 13,
   "metadata": {},
   "outputs": [
    {
     "name": "stdout",
     "output_type": "stream",
     "text": [
      "Collecting plotly\n",
      "  Downloading plotly-5.24.1-py3-none-any.whl.metadata (7.3 kB)\n",
      "Collecting tenacity>=6.2.0 (from plotly)\n",
      "  Downloading tenacity-9.0.0-py3-none-any.whl.metadata (1.2 kB)\n",
      "Requirement already satisfied: packaging in c:\\users\\aatish manjrekar\\appdata\\roaming\\python\\python313\\site-packages (from plotly) (24.2)\n",
      "Downloading plotly-5.24.1-py3-none-any.whl (19.1 MB)\n",
      "   ---------------------------------------- 0.0/19.1 MB ? eta -:--:--\n",
      "   -- ------------------------------------- 1.3/19.1 MB 6.7 MB/s eta 0:00:03\n",
      "   ----- ---------------------------------- 2.6/19.1 MB 6.4 MB/s eta 0:00:03\n",
      "   --------- ------------------------------ 4.5/19.1 MB 6.7 MB/s eta 0:00:03\n",
      "   ------------ --------------------------- 6.0/19.1 MB 6.9 MB/s eta 0:00:02\n",
      "   --------------- ------------------------ 7.3/19.1 MB 6.7 MB/s eta 0:00:02\n",
      "   ----------------- ---------------------- 8.1/19.1 MB 6.3 MB/s eta 0:00:02\n",
      "   ------------------ --------------------- 8.7/19.1 MB 5.7 MB/s eta 0:00:02\n",
      "   ------------------- -------------------- 9.2/19.1 MB 5.1 MB/s eta 0:00:02\n",
      "   -------------------- ------------------- 9.7/19.1 MB 4.9 MB/s eta 0:00:02\n",
      "   --------------------- ------------------ 10.2/19.1 MB 4.6 MB/s eta 0:00:02\n",
      "   ---------------------- ----------------- 10.5/19.1 MB 4.4 MB/s eta 0:00:02\n",
      "   ---------------------- ----------------- 10.5/19.1 MB 4.4 MB/s eta 0:00:02\n",
      "   ----------------------- ---------------- 11.0/19.1 MB 3.8 MB/s eta 0:00:03\n",
      "   ------------------------ --------------- 11.5/19.1 MB 3.7 MB/s eta 0:00:03\n",
      "   ------------------------- -------------- 12.1/19.1 MB 3.7 MB/s eta 0:00:02\n",
      "   ------------------------- -------------- 12.3/19.1 MB 3.7 MB/s eta 0:00:02\n",
      "   ---------------------------- ----------- 13.4/19.1 MB 3.6 MB/s eta 0:00:02\n",
      "   ----------------------------- ---------- 14.2/19.1 MB 3.6 MB/s eta 0:00:02\n",
      "   ------------------------------- -------- 15.2/19.1 MB 3.6 MB/s eta 0:00:02\n",
      "   --------------------------------- ------ 16.0/19.1 MB 3.6 MB/s eta 0:00:01Note: you may need to restart the kernel to use updated packages.\n",
      "\n",
      "   ----------------------------------- ---- 16.8/19.1 MB 3.6 MB/s eta 0:00:01\n",
      "   ------------------------------------ --- 17.6/19.1 MB 3.6 MB/s eta 0:00:01\n",
      "   ------------------------------------- -- 18.1/19.1 MB 3.6 MB/s eta 0:00:01\n",
      "   ---------------------------------------  18.9/19.1 MB 3.6 MB/s eta 0:00:01\n",
      "   ---------------------------------------  18.9/19.1 MB 3.6 MB/s eta 0:00:01\n",
      "   ---------------------------------------  18.9/19.1 MB 3.6 MB/s eta 0:00:01\n",
      "   ---------------------------------------- 19.1/19.1 MB 3.3 MB/s eta 0:00:00\n",
      "Downloading tenacity-9.0.0-py3-none-any.whl (28 kB)\n",
      "Installing collected packages: tenacity, plotly\n",
      "Successfully installed plotly-5.24.1 tenacity-9.0.0\n"
     ]
    }
   ],
   "source": [
    "%pip install plotly "
   ]
  },
  {
   "cell_type": "code",
   "execution_count": 20,
   "metadata": {},
   "outputs": [
    {
     "ename": "ValueError",
     "evalue": "Mime type rendering requires nbformat>=4.2.0 but it is not installed",
     "output_type": "error",
     "traceback": [
      "\u001b[1;31m---------------------------------------------------------------------------\u001b[0m",
      "\u001b[1;31mValueError\u001b[0m                                Traceback (most recent call last)",
      "Cell \u001b[1;32mIn[20], line 16\u001b[0m\n\u001b[0;32m      5\u001b[0m fig3 \u001b[38;5;241m=\u001b[39m px\u001b[38;5;241m.\u001b[39mscatter(\n\u001b[0;32m      6\u001b[0m     happ_df, \n\u001b[0;32m      7\u001b[0m     x\u001b[38;5;241m=\u001b[39m\u001b[38;5;124m\"\u001b[39m\u001b[38;5;124mGDP per Capita\u001b[39m\u001b[38;5;124m\"\u001b[39m, \n\u001b[1;32m   (...)\u001b[0m\n\u001b[0;32m     12\u001b[0m     hover_data\u001b[38;5;241m=\u001b[39m[\u001b[38;5;124m\"\u001b[39m\u001b[38;5;124mCountry\u001b[39m\u001b[38;5;124m\"\u001b[39m]\n\u001b[0;32m     13\u001b[0m )\n\u001b[0;32m     15\u001b[0m \u001b[38;5;66;03m# Show the figure\u001b[39;00m\n\u001b[1;32m---> 16\u001b[0m \u001b[43mfig3\u001b[49m\u001b[38;5;241;43m.\u001b[39;49m\u001b[43mshow\u001b[49m\u001b[43m(\u001b[49m\u001b[43m)\u001b[49m\n",
      "File \u001b[1;32mc:\\Users\\Aatish Manjrekar\\AppData\\Local\\Programs\\Python\\Python313\\Lib\\site-packages\\plotly\\basedatatypes.py:3410\u001b[0m, in \u001b[0;36mBaseFigure.show\u001b[1;34m(self, *args, **kwargs)\u001b[0m\n\u001b[0;32m   3377\u001b[0m \u001b[38;5;250m\u001b[39m\u001b[38;5;124;03m\"\"\"\u001b[39;00m\n\u001b[0;32m   3378\u001b[0m \u001b[38;5;124;03mShow a figure using either the default renderer(s) or the renderer(s)\u001b[39;00m\n\u001b[0;32m   3379\u001b[0m \u001b[38;5;124;03mspecified by the renderer argument\u001b[39;00m\n\u001b[1;32m   (...)\u001b[0m\n\u001b[0;32m   3406\u001b[0m \u001b[38;5;124;03mNone\u001b[39;00m\n\u001b[0;32m   3407\u001b[0m \u001b[38;5;124;03m\"\"\"\u001b[39;00m\n\u001b[0;32m   3408\u001b[0m \u001b[38;5;28;01mimport\u001b[39;00m\u001b[38;5;250m \u001b[39m\u001b[38;5;21;01mplotly\u001b[39;00m\u001b[38;5;21;01m.\u001b[39;00m\u001b[38;5;21;01mio\u001b[39;00m\u001b[38;5;250m \u001b[39m\u001b[38;5;28;01mas\u001b[39;00m\u001b[38;5;250m \u001b[39m\u001b[38;5;21;01mpio\u001b[39;00m\n\u001b[1;32m-> 3410\u001b[0m \u001b[38;5;28;01mreturn\u001b[39;00m \u001b[43mpio\u001b[49m\u001b[38;5;241;43m.\u001b[39;49m\u001b[43mshow\u001b[49m\u001b[43m(\u001b[49m\u001b[38;5;28;43mself\u001b[39;49m\u001b[43m,\u001b[49m\u001b[43m \u001b[49m\u001b[38;5;241;43m*\u001b[39;49m\u001b[43margs\u001b[49m\u001b[43m,\u001b[49m\u001b[43m \u001b[49m\u001b[38;5;241;43m*\u001b[39;49m\u001b[38;5;241;43m*\u001b[39;49m\u001b[43mkwargs\u001b[49m\u001b[43m)\u001b[49m\n",
      "File \u001b[1;32mc:\\Users\\Aatish Manjrekar\\AppData\\Local\\Programs\\Python\\Python313\\Lib\\site-packages\\plotly\\io\\_renderers.py:394\u001b[0m, in \u001b[0;36mshow\u001b[1;34m(fig, renderer, validate, **kwargs)\u001b[0m\n\u001b[0;32m    389\u001b[0m         \u001b[38;5;28;01mraise\u001b[39;00m \u001b[38;5;167;01mValueError\u001b[39;00m(\n\u001b[0;32m    390\u001b[0m             \u001b[38;5;124m\"\u001b[39m\u001b[38;5;124mMime type rendering requires ipython but it is not installed\u001b[39m\u001b[38;5;124m\"\u001b[39m\n\u001b[0;32m    391\u001b[0m         )\n\u001b[0;32m    393\u001b[0m     \u001b[38;5;28;01mif\u001b[39;00m \u001b[38;5;129;01mnot\u001b[39;00m nbformat \u001b[38;5;129;01mor\u001b[39;00m Version(nbformat\u001b[38;5;241m.\u001b[39m__version__) \u001b[38;5;241m<\u001b[39m Version(\u001b[38;5;124m\"\u001b[39m\u001b[38;5;124m4.2.0\u001b[39m\u001b[38;5;124m\"\u001b[39m):\n\u001b[1;32m--> 394\u001b[0m         \u001b[38;5;28;01mraise\u001b[39;00m \u001b[38;5;167;01mValueError\u001b[39;00m(\n\u001b[0;32m    395\u001b[0m             \u001b[38;5;124m\"\u001b[39m\u001b[38;5;124mMime type rendering requires nbformat>=4.2.0 but it is not installed\u001b[39m\u001b[38;5;124m\"\u001b[39m\n\u001b[0;32m    396\u001b[0m         )\n\u001b[0;32m    398\u001b[0m     ipython_display\u001b[38;5;241m.\u001b[39mdisplay(bundle, raw\u001b[38;5;241m=\u001b[39m\u001b[38;5;28;01mTrue\u001b[39;00m)\n\u001b[0;32m    400\u001b[0m \u001b[38;5;66;03m# external renderers\u001b[39;00m\n",
      "\u001b[1;31mValueError\u001b[0m: Mime type rendering requires nbformat>=4.2.0 but it is not installed"
     ]
    }
   ],
   "source": [
    "import plotly.express as px\n",
    "happ_df.rename(columns={\"Economy (GDP per Capita)\": \"GDP per Capita\"}, inplace=True)\n",
    "\n",
    "# Create scatter plot\n",
    "fig3 = px.scatter(\n",
    "    happ_df, \n",
    "    x=\"GDP per Capita\", \n",
    "    y=\"Happiness Score\", \n",
    "    color=\"Region\", \n",
    "    title=\"Happiness Score vs GDP per Capita\",\n",
    "    labels={\"GDP per Capita\": \"GDP per Capita\", \"Happiness Score\": \"Happiness Score\"},\n",
    "    hover_data=[\"Country\"]\n",
    ")\n",
    "\n",
    "# Show the figure\n",
    "fig3.show()"
   ]
  },
  {
   "cell_type": "code",
   "execution_count": 15,
   "metadata": {},
   "outputs": [
    {
     "name": "stdout",
     "output_type": "stream",
     "text": [
      "Collecting nbformat\n",
      "  Downloading nbformat-5.10.4-py3-none-any.whl.metadata (3.6 kB)\n",
      "Collecting fastjsonschema>=2.15 (from nbformat)\n",
      "  Downloading fastjsonschema-2.21.1-py3-none-any.whl.metadata (2.2 kB)\n",
      "Collecting jsonschema>=2.6 (from nbformat)\n",
      "  Downloading jsonschema-4.23.0-py3-none-any.whl.metadata (7.9 kB)\n",
      "Requirement already satisfied: jupyter-core!=5.0.*,>=4.12 in c:\\users\\aatish manjrekar\\appdata\\roaming\\python\\python313\\site-packages (from nbformat) (5.7.2)\n",
      "Requirement already satisfied: traitlets>=5.1 in c:\\users\\aatish manjrekar\\appdata\\roaming\\python\\python313\\site-packages (from nbformat) (5.14.3)\n",
      "Collecting attrs>=22.2.0 (from jsonschema>=2.6->nbformat)\n",
      "  Downloading attrs-25.1.0-py3-none-any.whl.metadata (10 kB)\n",
      "Collecting jsonschema-specifications>=2023.03.6 (from jsonschema>=2.6->nbformat)\n",
      "  Downloading jsonschema_specifications-2024.10.1-py3-none-any.whl.metadata (3.0 kB)\n",
      "Collecting referencing>=0.28.4 (from jsonschema>=2.6->nbformat)\n",
      "  Downloading referencing-0.36.2-py3-none-any.whl.metadata (2.8 kB)\n",
      "Collecting rpds-py>=0.7.1 (from jsonschema>=2.6->nbformat)\n",
      "  Downloading rpds_py-0.22.3-cp313-cp313-win_amd64.whl.metadata (4.2 kB)\n",
      "Requirement already satisfied: platformdirs>=2.5 in c:\\users\\aatish manjrekar\\appdata\\roaming\\python\\python313\\site-packages (from jupyter-core!=5.0.*,>=4.12->nbformat) (4.3.6)\n",
      "Requirement already satisfied: pywin32>=300 in c:\\users\\aatish manjrekar\\appdata\\roaming\\python\\python313\\site-packages (from jupyter-core!=5.0.*,>=4.12->nbformat) (308)\n",
      "Downloading nbformat-5.10.4-py3-none-any.whl (78 kB)\n",
      "Downloading fastjsonschema-2.21.1-py3-none-any.whl (23 kB)\n",
      "Downloading jsonschema-4.23.0-py3-none-any.whl (88 kB)\n",
      "Downloading attrs-25.1.0-py3-none-any.whl (63 kB)\n",
      "Downloading jsonschema_specifications-2024.10.1-py3-none-any.whl (18 kB)\n",
      "Downloading referencing-0.36.2-py3-none-any.whl (26 kB)\n",
      "Downloading rpds_py-0.22.3-cp313-cp313-win_amd64.whl (235 kB)\n",
      "Installing collected packages: fastjsonschema, rpds-py, attrs, referencing, jsonschema-specifications, jsonschema, nbformat\n",
      "Successfully installed attrs-25.1.0 fastjsonschema-2.21.1 jsonschema-4.23.0 jsonschema-specifications-2024.10.1 nbformat-5.10.4 referencing-0.36.2 rpds-py-0.22.3\n",
      "Note: you may need to restart the kernel to use updated packages.\n"
     ]
    },
    {
     "name": "stderr",
     "output_type": "stream",
     "text": [
      "  WARNING: The script jsonschema.exe is installed in 'c:\\Users\\Aatish Manjrekar\\AppData\\Local\\Programs\\Python\\Python313\\Scripts' which is not on PATH.\n",
      "  Consider adding this directory to PATH or, if you prefer to suppress this warning, use --no-warn-script-location.\n",
      "  WARNING: The script jupyter-trust.exe is installed in 'c:\\Users\\Aatish Manjrekar\\AppData\\Local\\Programs\\Python\\Python313\\Scripts' which is not on PATH.\n",
      "  Consider adding this directory to PATH or, if you prefer to suppress this warning, use --no-warn-script-location.\n"
     ]
    }
   ],
   "source": [
    "%pip install nbformat"
   ]
  },
  {
   "cell_type": "code",
   "execution_count": 24,
   "metadata": {},
   "outputs": [],
   "source": [
    "import plotly.express as px\n",
    "import plotly.io as pio\n",
    "pio.renderers.default = \"browser\"\n",
    "happ_df.rename(columns={\"Economy (GDP per Capita)\": \"GDP per Capita\"}, inplace=True)\n",
    "\n",
    "# Create scatter plot\n",
    "fig3 = px.scatter(\n",
    "    happ_df, \n",
    "    x=\"GDP per Capita\", \n",
    "    y=\"Happiness Score\", \n",
    "    color=\"Region\", \n",
    "    title=\"Happiness Score vs GDP per Capita\",\n",
    "    labels={\"GDP per Capita\": \"GDP per Capita\", \"Happiness Score\": \"Happiness Score\"},\n",
    "    hover_data=[\"Country\"]\n",
    ")\n",
    "\n",
    "# Show the figure\n",
    "fig3.show()"
   ]
  },
  {
   "cell_type": "code",
   "execution_count": 22,
   "metadata": {},
   "outputs": [
    {
     "name": "stdout",
     "output_type": "stream",
     "text": [
      "Requirement already satisfied: plotly in c:\\users\\aatish manjrekar\\appdata\\local\\programs\\python\\python313\\lib\\site-packages (5.24.1)\n",
      "Requirement already satisfied: pip in c:\\users\\aatish manjrekar\\appdata\\local\\programs\\python\\python313\\lib\\site-packages (24.3.1)\n",
      "Collecting pip\n",
      "  Downloading pip-25.0-py3-none-any.whl.metadata (3.7 kB)\n",
      "Requirement already satisfied: tenacity>=6.2.0 in c:\\users\\aatish manjrekar\\appdata\\local\\programs\\python\\python313\\lib\\site-packages (from plotly) (9.0.0)\n",
      "Requirement already satisfied: packaging in c:\\users\\aatish manjrekar\\appdata\\roaming\\python\\python313\\site-packages (from plotly) (24.2)\n",
      "Downloading pip-25.0-py3-none-any.whl (1.8 MB)\n",
      "   ---------------------------------------- 0.0/1.8 MB ? eta -:--:--\n",
      "   ---------------------------------- ----- 1.6/1.8 MB 8.4 MB/s eta 0:00:01\n",
      "   ---------------------------------------- 1.8/1.8 MB 4.9 MB/s eta 0:00:00\n",
      "Installing collected packages: pip\n",
      "  Attempting uninstall: pip\n",
      "    Found existing installation: pip 24.3.1\n",
      "    Uninstalling pip-24.3.1:\n",
      "      Successfully uninstalled pip-24.3.1\n",
      "Successfully installed pip-25.0\n",
      "Note: you may need to restart the kernel to use updated packages.\n"
     ]
    },
    {
     "name": "stderr",
     "output_type": "stream",
     "text": [
      "  WARNING: The scripts pip.exe, pip3.13.exe and pip3.exe are installed in 'c:\\Users\\Aatish Manjrekar\\AppData\\Local\\Programs\\Python\\Python313\\Scripts' which is not on PATH.\n",
      "  Consider adding this directory to PATH or, if you prefer to suppress this warning, use --no-warn-script-location.\n"
     ]
    }
   ],
   "source": [
    "pip install --upgrade plotly pip"
   ]
  },
  {
   "cell_type": "code",
   "execution_count": 32,
   "metadata": {},
   "outputs": [],
   "source": [
    "import plotly.graph_objects as go\n",
    "import pandas as pd\n",
    "\n",
    "# Aggregate Happiness Score by Region\n",
    "region_happiness = happ_df.groupby(\"Region\", as_index=False)[\"Happiness Score\"].sum()\n",
    "\n",
    "# Create pie chart using Graph Objects\n",
    "fig4 = go.Figure(\n",
    "    data=[\n",
    "        go.Pie(\n",
    "            labels=region_happiness[\"Region\"], \n",
    "            values=region_happiness[\"Happiness Score\"], \n",
    "            hoverinfo=\"label+percent\",\n",
    "            textinfo=\"label+percent\",\n",
    "            marker=dict(line=dict(color=\"white\", width=2))\n",
    "        )\n",
    "    ]\n",
    ")\n",
    "\n",
    "# Set title\n",
    "fig4.update_layout(title_text=\"Happiness Score Distribution by Region\")\n",
    "\n",
    "# Show the figure\n",
    "fig4.show()"
   ]
  },
  {
   "cell_type": "code",
   "execution_count": 33,
   "metadata": {},
   "outputs": [],
   "source": [
    "happ_df.rename(columns={\"Economy (GDP per Capita)\": \"GDP per Capita\", \"Health (Life Expectancy)\": \"Life Expectancy\"}, inplace=True)\n",
    "\n",
    "# Create Choropleth Map\n",
    "fig_map = px.choropleth(\n",
    "    happ_df,\n",
    "    locations=\"Country\",  # Country column\n",
    "    locationmode=\"country names\",  # Recognize full country names\n",
    "    color=\"GDP per Capita\",  # Color by GDP per capita\n",
    "    hover_name=\"Country\",  # Show country name on hover\n",
    "    hover_data=[\"Life Expectancy\"],  # Show life expectancy on hover\n",
    "    title=\"Global GDP per Capita with Healthy Life Expectancy\",\n",
    "    color_continuous_scale=\"Blues\"  # Choose a color scheme\n",
    ")\n",
    "\n",
    "# Show the map\n",
    "fig_map.show()"
   ]
  },
  {
   "cell_type": "code",
   "execution_count": 39,
   "metadata": {},
   "outputs": [
    {
     "data": {
      "text/plain": [
       "True"
      ]
     },
     "execution_count": 39,
     "metadata": {},
     "output_type": "execute_result"
    }
   ],
   "source": [
    "import plotly.io as pio\n",
    "\n",
    "# List of figures\n",
    "figures = [fig3, fig4, fig_map]  # Replace with your actual figures\n",
    "\n",
    "# Open an HTML file and write figures\n",
    "with open(\"dashboard.html\", \"w\") as f:\n",
    "    f.write(\"<html><head><title>Plotly Dashboard</title></head><body>\\n\")\n",
    "    \n",
    "    for fig in figures:\n",
    "        f.write(fig.to_html(full_html=False, include_plotlyjs=\"cdn\"))  # Append each figure\n",
    "        \n",
    "    f.write(\"</body></html>\")\n",
    "\n",
    "# Open the HTML file automatically in the browser\n",
    "import webbrowser\n",
    "webbrowser.open(\"dashboard.html\")\n"
   ]
  },
  {
   "cell_type": "code",
   "execution_count": null,
   "metadata": {},
   "outputs": [],
   "source": []
  }
 ],
 "metadata": {
  "kernelspec": {
   "display_name": "Python 3",
   "language": "python",
   "name": "python3"
  },
  "language_info": {
   "codemirror_mode": {
    "name": "ipython",
    "version": 3
   },
   "file_extension": ".py",
   "mimetype": "text/x-python",
   "name": "python",
   "nbconvert_exporter": "python",
   "pygments_lexer": "ipython3",
   "version": "3.13.1"
  }
 },
 "nbformat": 4,
 "nbformat_minor": 2
}
